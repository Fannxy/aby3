{
 "cells": [
  {
   "cell_type": "code",
   "execution_count": 1,
   "metadata": {},
   "outputs": [],
   "source": [
    "import numpy as np\n",
    "import pandas as pd\n",
    "import os"
   ]
  },
  {
   "cell_type": "code",
   "execution_count": 2,
   "metadata": {},
   "outputs": [],
   "source": [
    "def get_record(target_folder, gtype, n, k, count):\n",
    "    \"\"\"fetch a result from the target file.\n",
    "    \"\"\"\n",
    "    target_file = f\"{target_folder}{gtype}_n-{n}_k-{k}-{count}.txt\"\n",
    "    result_dict =  {\"gtype\": gtype, \"n\": n, \"k\": k}\n",
    "    with open(target_file, \"r\") as f:\n",
    "        for line in f:\n",
    "            if \"Time taken\" in line:\n",
    "                parts = line.strip().split(\" \")\n",
    "                key = parts[3][:-1]\n",
    "                value = float(parts[4])\n",
    "                result_dict[key] = value\n",
    "            elif \" : \" in line:\n",
    "                parts = line.strip().split(\" : \")\n",
    "                key = parts[0]\n",
    "                value = int(parts[1])\n",
    "                result_dict[key] = value\n",
    "    return result_dict"
   ]
  },
  {
   "cell_type": "code",
   "execution_count": null,
   "metadata": {},
   "outputs": [],
   "source": [
    "target_folder = \"/root/aby3/aby3-GraphQuery/record/privGraph/\"\n",
    "for file in os."
   ]
  }
 ],
 "metadata": {
  "kernelspec": {
   "display_name": "Python 3",
   "language": "python",
   "name": "python3"
  },
  "language_info": {
   "codemirror_mode": {
    "name": "ipython",
    "version": 3
   },
   "file_extension": ".py",
   "mimetype": "text/x-python",
   "name": "python",
   "nbconvert_exporter": "python",
   "pygments_lexer": "ipython3",
   "version": "3.8.10"
  }
 },
 "nbformat": 4,
 "nbformat_minor": 2
}

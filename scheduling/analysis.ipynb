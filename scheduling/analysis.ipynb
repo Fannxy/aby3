{
 "cells": [
  {
   "cell_type": "code",
   "execution_count": 58,
   "metadata": {},
   "outputs": [],
   "source": [
    "import sys\n",
    "import os\n",
    "import argparse\n",
    "import matplotlib.pyplot as plt\n",
    "from matplotlib.ticker import FuncFormatter\n",
    "notebook_dir = os.path.dirname(os.path.abspath('__file__'))\n",
    "target_dir = os.path.abspath(os.path.join(notebook_dir, '..', 'PtA_deploy'))\n",
    "sys.path.append(target_dir)\n",
    "from system_monitor import *"
   ]
  },
  {
   "cell_type": "markdown",
   "metadata": {},
   "source": [
    "# Communication pattern analysis"
   ]
  },
  {
   "cell_type": "code",
   "execution_count": 59,
   "metadata": {},
   "outputs": [],
   "source": [
    "# asymmetric communication pattern\n",
    "asymetric_log_folder = \"/root/aby3/scheduling/Record_test_asy/\"\n",
    "party_file_prefix = asymetric_log_folder + \"monitor-matrix-0-64-32768-64-\"\n",
    "usage_dict_list = []\n",
    "for i in range(3):\n",
    "    party_file = f\"{party_file_prefix}{i}.log\"\n",
    "    _usage_dict = get_usage_dict(party_file)\n",
    "    usage_dict_list.append(_usage_dict)\n",
    "    "
   ]
  },
  {
   "cell_type": "code",
   "execution_count": 64,
   "metadata": {},
   "outputs": [],
   "source": [
    "plt.rcParams['font.size'] = 18\n",
    "fig, axs = plt.subplots(1, 3, figsize=(12, 2))\n",
    "for i in range(3):\n",
    "    ax = axs[i]\n",
    "    send_record, recv_record = usage_dict_list[i]['network_send'], usage_dict_list[i]['network_recv']\n",
    "    # print(send_record)\n",
    "    assert len(send_record) == len(recv_record)\n",
    "    if(i == 0):\n",
    "        ax.plot(np.arange(len(send_record))[::3], send_record[::3], label='Send')\n",
    "        ax.plot(np.arange(len(recv_record))[::3], recv_record[::3], label='Recv')\n",
    "    else:\n",
    "        ax.plot(np.arange(len(send_record))[::3], send_record[::3])\n",
    "        ax.plot(np.arange(len(recv_record))[::3], recv_record[::3])\n",
    "    # ax.legend()\n",
    "    ax.set_title(f\"Party{i}\")\n",
    "    if(i == 0):\n",
    "        ax.set_ylabel(\"Bandwidth Usage (GB/s)\")\n",
    "        \n",
    "fig.text(0.5, -0.08, 'Time Stamps', ha='center', fontsize=18)\n",
    "fig.legend(bbox_to_anchor=(0.5, 1.12), loc='upper center', ncol=2, fontsize=15)\n",
    "plt.savefig(\"./graph/asy_comm_example.pdf\", bbox_inches='tight', dpi=300)\n"
   ]
  },
  {
   "cell_type": "code",
   "execution_count": 56,
   "metadata": {},
   "outputs": [],
   "source": [
    "# asymmetric communication pattern\n",
    "roundrole_log_folder = \"/root/aby3/scheduling/Record_test/\"\n",
    "party_file_prefix = roundrole_log_folder + \"monitor-matrix-1-64-32768-64-\"\n",
    "usage_dict_list = []\n",
    "for i in range(3):\n",
    "    party_file = f\"{party_file_prefix}{i}.log\"\n",
    "    _usage_dict = get_usage_dict(party_file)\n",
    "    usage_dict_list.append(_usage_dict)"
   ]
  },
  {
   "cell_type": "code",
   "execution_count": 57,
   "metadata": {},
   "outputs": [],
   "source": [
    "plt.rcParams['font.size'] = 15\n",
    "fig, axs = plt.subplots(1, 3, figsize=(16, 3))\n",
    "for i in range(3):\n",
    "    ax = axs[i]\n",
    "    send_record, recv_record = usage_dict_list[i]['network_send'], usage_dict_list[i]['network_recv']\n",
    "    # print(send_record)\n",
    "    assert len(send_record) == len(recv_record)\n",
    "    ax.plot(np.arange(len(send_record))[::3], send_record[::3], label='Send')\n",
    "    ax.plot(np.arange(len(recv_record))[::3], recv_record[::3], label='Recv')\n",
    "    ax.legend()\n",
    "    ax.set_title(f\"Party{i}\")\n",
    "    if(i == 0):\n",
    "        ax.set_ylabel(\"Bandwidth Usage (GB/s)\")\n",
    "        \n",
    "fig.text(0.5, -0.08, 'Time Stamps', ha='center', fontsize=18)\n",
    "plt.savefig(\"./graph/rr_comm_example.pdf\", bbox_inches='tight', dpi=300)"
   ]
  },
  {
   "cell_type": "code",
   "execution_count": null,
   "metadata": {},
   "outputs": [],
   "source": []
  }
 ],
 "metadata": {
  "kernelspec": {
   "display_name": "Python 3",
   "language": "python",
   "name": "python3"
  },
  "language_info": {
   "codemirror_mode": {
    "name": "ipython",
    "version": 3
   },
   "file_extension": ".py",
   "mimetype": "text/x-python",
   "name": "python",
   "nbconvert_exporter": "python",
   "pygments_lexer": "ipython3",
   "version": "3.8.10"
  }
 },
 "nbformat": 4,
 "nbformat_minor": 2
}
